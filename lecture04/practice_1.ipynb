{
 "cells": [
  {
   "cell_type": "code",
   "execution_count": 1,
   "id": "1ed6a4e3",
   "metadata": {},
   "outputs": [
    {
     "name": "stdout",
     "output_type": "stream",
     "text": [
      "k값별 정확도:\n",
      "k = 1 -> 정확도: 1.00\n",
      "k = 2 -> 정확도: 1.00\n",
      "k = 3 -> 정확도: 1.00\n",
      "k = 4 -> 정확도: 1.00\n",
      "k = 5 -> 정확도: 0.67\n",
      "k = 6 -> 정확도: 0.67\n",
      "k = 7 -> 정확도: 0.67\n",
      "\n",
      "최적의 k값은: 1 (정확도: 1.00)\n"
     ]
    }
   ],
   "source": [
    "import numpy as np\n",
    "\n",
    "def euclidean_distance(x1, x2):\n",
    "    return np.sqrt(np.sum((x1 - x2) ** 2))\n",
    "\n",
    "def knn_predict(x, x_train, y_train, k):\n",
    "    distances = [euclidean_distance(x, xi) for xi in x_train]\n",
    "    k_indices = np.argsort(distances)[:k]\n",
    "    k_labels = y_train[k_indices]\n",
    "    \n",
    "    labels, counts = np.unique(k_labels, return_counts=True)\n",
    "    return labels[np.argmax(counts)]\n",
    "\n",
    "def compute_accuracy(x_val, y_val, x_train, y_train, k):\n",
    "    correct = 0\n",
    "    for x, y in zip(x_val, y_val):\n",
    "        pred = knn_predict(x, x_train, y_train, k)\n",
    "        if pred == y:\n",
    "            correct += 1\n",
    "    return correct / len(y_val)\n",
    "\n",
    "x = np.array([\n",
    "    [1.0, 2.0], [1.5, 1.8], [5.0, 8.0],\n",
    "    [6.0, 9.0], [1.0, 0.6], [9.0, 11.0],\n",
    "    [8.0, 2.0], [10.0, 2.0], [9.0, 3.0]\n",
    "])\n",
    "y = np.array(['A', 'A', 'B', 'B', 'A', 'B', 'B', 'B', 'B'])\n",
    "\n",
    "np.random.seed(42)\n",
    "indices = np.random.permutation(len(x))\n",
    "split = int(0.7 * len(x))\n",
    "\n",
    "train_idx = indices[:split]\n",
    "val_idx = indices[split:]\n",
    "\n",
    "x_train, y_train = x[train_idx], y[train_idx]\n",
    "x_val, y_val = x[val_idx], y[val_idx]\n",
    "\n",
    "k_candidates = range(1, 8)\n",
    "best_k = None\n",
    "best_acc = 0.0\n",
    "\n",
    "print(\"k값별 정확도:\")\n",
    "for k in k_candidates:\n",
    "    acc = compute_accuracy(x_val, y_val, x_train, y_train, k)\n",
    "    print(f\"k = {k} -> 정확도: {acc:.2f}\")\n",
    "    if acc > best_acc:\n",
    "        best_acc = acc\n",
    "        best_k = k\n",
    "        \n",
    "print(f\"\\n최적의 k값은: {best_k} (정확도: {best_acc:.2f})\")"
   ]
  }
 ],
 "metadata": {
  "kernelspec": {
   "display_name": "myenv",
   "language": "python",
   "name": "myenv"
  },
  "language_info": {
   "codemirror_mode": {
    "name": "ipython",
    "version": 3
   },
   "file_extension": ".py",
   "mimetype": "text/x-python",
   "name": "python",
   "nbconvert_exporter": "python",
   "pygments_lexer": "ipython3",
   "version": "3.13.2"
  }
 },
 "nbformat": 4,
 "nbformat_minor": 5
}
